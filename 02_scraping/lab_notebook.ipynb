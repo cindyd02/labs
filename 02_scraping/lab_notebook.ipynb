{
  "cells": [
    {
      "cell_type": "markdown",
      "metadata": {
        "id": "IU2Oe2lgy3XV"
      },
      "source": [
        "# Web Scraping\n",
        "\n",
        "Last time, we looked at REST API's as a source of data. You can get lots of very high quality data this way.\n",
        "\n",
        "Some data is available online, but not through an API. When this is the case, some times you can simply copy and paste the data into a .csv file and go on with your life. But if there are many records to parse and combine into a dataset, that might be impossible. Can we automate the collection of data from online sources?\n",
        "\n",
        "This is called web scraping. Broadly speaking: Web scraping is legal, but what you plan to do with the results of your scraping might not be. In general, most sites do not want you to scrape them at this point, but there is not really a way to stop you if you are sufficiently motivated. Be careful to use server resources respectfully (not too many requests per unit time), think seriously about privacy concerns, and be careful who you share your work with."
      ]
    },
    {
      "cell_type": "markdown",
      "metadata": {
        "id": "ui3HNFVXy3XX"
      },
      "source": [
        "We'll be scraping data about used cars in Charlottesville from Craigslist. This will give us a chance to put those wrangling, EDA, and visualization skills to work.\n",
        "\n",
        "We'll use the `requests` package, as we did with API's, but will be getting the kinds of web pages you see everyday. Again, we'll use a header with a user-agent that masks our true identity so that we're not rejected by the server. This particular url points to the car listings for Craigslist in Charlottesville."
      ]
    },
    {
      "cell_type": "markdown",
      "metadata": {
        "id": "a8yVtKAxy3XY"
      },
      "source": [
        "## 1. Pick something else on Craigslist: Musical instruments, roommates, antiques, etc. Look at the search page and its source code. Record which fields/data you would like to gather, and what kinds of EDA you'd do with it. I look at used cars below."
      ]
    },
    {
      "cell_type": "code",
      "execution_count": 54,
      "metadata": {
        "id": "bT63yifry3XX"
      },
      "outputs": [],
      "source": [
        "import numpy as np\n",
        "import matplotlib.pyplot as plt\n",
        "import pandas as pd\n",
        "import seaborn as sns\n",
        "\n",
        "import requests # Page requests\n",
        "\n",
        "header = {'User-Agent': 'Mozilla/5.0 (Windows NT 10.0; Win64; x64; rv:124.0) Gecko/20100101 Firefox/124.0'}\n",
        "url = 'https://charlottesville.craigslist.org/search/mca#search=1~gallery~0~9'\n",
        "raw = requests.get(url, headers=header) "
      ]
    },
    {
      "cell_type": "markdown",
      "metadata": {
        "id": "GS1XkRlXy3XX"
      },
      "source": [
        "Now that we have that particular page available locally, we want to **parse** it and get results from it. To do that, we can use a package called `beautifulSoup` or `bs4`.\n",
        "\n",
        "What does `beautifulSoup` do for us? Let's go to the web page of interest. You probably see something like this:\n",
        "\n",
        "![Listings](craigslist.png \"Craigslist\")\n",
        "\n",
        "But if you \"view page source\" -- which is CTRL+U -- in Chrome, you see what the computer sees:\n",
        "\n",
        "![Listings](craigslist_source.png \"Craigslist\")\n",
        "\n",
        "Since your web browser needs lots of instructions about how to render the text, pictures, and other content on your web page, there are a lot of clues about where the data live and how to extricate them from a page. These clues are called **tags**. If you wander the source for the search page on cars, you see a particular `class = \"cl-static-search-result\"` term appear attached to each listing:\n",
        "\n",
        "![Listings](listing.png \"Craigslist\")\n",
        "\n",
        "This structure can be exploited to search the page for information. This kind of detective work -- looking at the page source, finding the interesting tages, and then searching the page with `beautifulSoup` -- is the basic job of web scraping."
      ]
    },
    {
      "cell_type": "markdown",
      "metadata": {
        "id": "NiO-E2wuy3XZ"
      },
      "source": [
        "## 2. Get your search results of interest and extract data from them, using code similar to what's below."
      ]
    },
    {
      "cell_type": "markdown",
      "metadata": {
        "id": "fEO2NpZ8y3XY"
      },
      "source": [
        "The following code chunk takes the raw content from `requests` and turns it into a beautifulSoup object, which can search the page and return results for us:"
      ]
    },
    {
      "cell_type": "code",
      "execution_count": 55,
      "metadata": {
        "id": "lllobrYIy3XY"
      },
      "outputs": [],
      "source": [
        "from bs4 import BeautifulSoup as soup # HTML parser\n",
        "bsObj = soup(raw.content,'html.parser') # Parse the html\n",
        "listings = bsObj.find_all(class_=\"cl-static-search-result\") # Find all listings"
      ]
    },
    {
      "cell_type": "markdown",
      "metadata": {
        "id": "ymO8JbMmy3XY"
      },
      "source": [
        "Why is the argument `class_` and not just `class`? The word `class` is a reserved keyword for Python, and cannot be used by anyone else, similar to `True` and `False`. But since we want the `class = \"cl-static-search-result\"` terms, we need to use the `class_` argument to the `.find_all` method.\n",
        "\n",
        "The `.find_all` function dredges the entire page and finds all the instances of `class = \"cl-static-search-result\"`, resulting in a list of entries. We can then parse the entries.\n",
        "\n",
        "For each listing, we'll use the `.find` method to search within the listing record for specific information. To get the information we want, we can then use `.get_text()`.\n",
        "\n",
        "In the code below, two more things happen.\n",
        "\n",
        "First, I would like to get the brand of the car from the post title, if possible. To do this, I split the title into words using `title.split()`, and then I use a list comprehension to look over every word in the title and check whether it appears in the `brands` list.\n",
        "\n",
        "Second, I would like to get the year the car was built, so I can determine the vehicle's age. To do this, I use a thing called **regular expressions** that provides a language for expressing patterns. Do I remember how to do this off the top of my head? No, I read a few pages in a book and looked on StackOverflow for answers. Roughly, in order to express the idea \"any year starting with 20xx,\" you can write `20[0-9][0-9]`, and for \"any year starting with 19xx,\" you can write `19[0-9][0-9]`. The `[0-9]`'s act as wildcards for any digit. This allows me to use the `re` package to find any instances of year-like numbers in the title text, using `re.search(r'20[0-9][0-9]|19[0-9][0-9]', title )`.\n",
        "\n",
        "This is all nested in a for-loop over the listings, and the data is appended to a list."
      ]
    },
    {
      "cell_type": "code",
      "execution_count": 56,
      "metadata": {
        "id": "jw-U4BA-y3XY"
      },
      "outputs": [],
      "source": [
        "import re\n",
        "brands = ['honda', 'bmw', 'harley', 'vespa', 'ducati', 'harley davidson', 'yamaha']\n",
        "\n",
        "data = [] \n",
        "for k in range(len(listings)):\n",
        "    title = listings[k].find('div', class_='title').get_text().lower()\n",
        "    price = listings[k].find('div', class_='price').get_text()\n",
        "    link = listings[k].find(href=True)['href']\n",
        "    \n",
        "    location_tag = listings[k].find('div', class_='location')\n",
        "    location = location_tag.get_text().strip() if location_tag else 'N/A'\n",
        "    \n",
        "    # Get brand from the title string:\n",
        "    words = title.split()\n",
        "    hits = [word for word in words if word in brands] # Find brands in the title\n",
        "    brand = hits[0] if hits else 'missing'\n",
        "    \n",
        "    # Get years from title string:\n",
        "    regex_search = re.search(r'20[0-9][0-9]|19[0-9][0-9]', title) # Find year references\n",
        "    year = regex_search.group(0) if regex_search else np.nan\n",
        "    \n",
        "    data.append({'title': title, 'price': price, 'link': link, 'location': location, 'brand': brand, 'year': year})\n",
        "\n",
        "#data\n"
      ]
    },
    {
      "cell_type": "markdown",
      "metadata": {
        "id": "v8TjNu6uy3Xa"
      },
      "source": [
        "## 3. Wrangle your data, do some EDA, and make some plots. Try to find some interesting relationships or stories to tell about your data."
      ]
    },
    {
      "cell_type": "markdown",
      "metadata": {
        "id": "Mz4zVi80y3XZ"
      },
      "source": [
        "\n",
        "With the data scraped from Craigslist, we can put it in a dataframe and wrangle it. Of course, price and year come in as text, not numbers, and need to be typecast/coerced:"
      ]
    },
    {
      "cell_type": "code",
      "execution_count": 57,
      "metadata": {
        "id": "KY1njgHcy3XZ",
        "outputId": "985126b7-e5e5-40c3-ba09-ed0b56625f69"
      },
      "outputs": [
        {
          "name": "stdout",
          "output_type": "stream",
          "text": [
            "(17, 7)\n"
          ]
        },
        {
          "data": {
            "text/html": [
              "<div>\n",
              "<style scoped>\n",
              "    .dataframe tbody tr th:only-of-type {\n",
              "        vertical-align: middle;\n",
              "    }\n",
              "\n",
              "    .dataframe tbody tr th {\n",
              "        vertical-align: top;\n",
              "    }\n",
              "\n",
              "    .dataframe thead th {\n",
              "        text-align: right;\n",
              "    }\n",
              "</style>\n",
              "<table border=\"1\" class=\"dataframe\">\n",
              "  <thead>\n",
              "    <tr style=\"text-align: right;\">\n",
              "      <th></th>\n",
              "      <th>title</th>\n",
              "      <th>price</th>\n",
              "      <th>link</th>\n",
              "      <th>location</th>\n",
              "      <th>brand</th>\n",
              "      <th>year</th>\n",
              "      <th>age</th>\n",
              "    </tr>\n",
              "  </thead>\n",
              "  <tbody>\n",
              "    <tr>\n",
              "      <th>0</th>\n",
              "      <td>2003 sv650s track bike</td>\n",
              "      <td>1700</td>\n",
              "      <td>https://charlottesville.craigslist.org/mcy/d/w...</td>\n",
              "      <td>Waynesboro</td>\n",
              "      <td>missing</td>\n",
              "      <td>2003.0</td>\n",
              "      <td>22.0</td>\n",
              "    </tr>\n",
              "    <tr>\n",
              "      <th>1</th>\n",
              "      <td>2017 indian roadmaster</td>\n",
              "      <td>15495</td>\n",
              "      <td>https://charlottesville.craigslist.org/mcy/d/c...</td>\n",
              "      <td>Charlottesville</td>\n",
              "      <td>missing</td>\n",
              "      <td>2017.0</td>\n",
              "      <td>8.0</td>\n",
              "    </tr>\n",
              "    <tr>\n",
              "      <th>2</th>\n",
              "      <td>2005 yamaha v-star</td>\n",
              "      <td>3750</td>\n",
              "      <td>https://charlottesville.craigslist.org/mcy/d/s...</td>\n",
              "      <td>Staunton</td>\n",
              "      <td>yamaha</td>\n",
              "      <td>2005.0</td>\n",
              "      <td>20.0</td>\n",
              "    </tr>\n",
              "    <tr>\n",
              "      <th>3</th>\n",
              "      <td>2021 ktm390 adventure</td>\n",
              "      <td>5500</td>\n",
              "      <td>https://charlottesville.craigslist.org/mcy/d/c...</td>\n",
              "      <td>Charlottesville</td>\n",
              "      <td>missing</td>\n",
              "      <td>2021.0</td>\n",
              "      <td>4.0</td>\n",
              "    </tr>\n",
              "    <tr>\n",
              "      <th>4</th>\n",
              "      <td>2017 ducati scrambler 800</td>\n",
              "      <td>6500</td>\n",
              "      <td>https://charlottesville.craigslist.org/mcy/d/c...</td>\n",
              "      <td>Charlottesville</td>\n",
              "      <td>ducati</td>\n",
              "      <td>2017.0</td>\n",
              "      <td>8.0</td>\n",
              "    </tr>\n",
              "  </tbody>\n",
              "</table>\n",
              "</div>"
            ],
            "text/plain": [
              "                       title  price  \\\n",
              "0     2003 sv650s track bike   1700   \n",
              "1     2017 indian roadmaster  15495   \n",
              "2         2005 yamaha v-star   3750   \n",
              "3      2021 ktm390 adventure   5500   \n",
              "4  2017 ducati scrambler 800   6500   \n",
              "\n",
              "                                                link         location  \\\n",
              "0  https://charlottesville.craigslist.org/mcy/d/w...       Waynesboro   \n",
              "1  https://charlottesville.craigslist.org/mcy/d/c...  Charlottesville   \n",
              "2  https://charlottesville.craigslist.org/mcy/d/s...         Staunton   \n",
              "3  https://charlottesville.craigslist.org/mcy/d/c...  Charlottesville   \n",
              "4  https://charlottesville.craigslist.org/mcy/d/c...  Charlottesville   \n",
              "\n",
              "     brand    year   age  \n",
              "0  missing  2003.0  22.0  \n",
              "1  missing  2017.0   8.0  \n",
              "2   yamaha  2005.0  20.0  \n",
              "3  missing  2021.0   4.0  \n",
              "4   ducati  2017.0   8.0  "
            ]
          },
          "execution_count": 57,
          "metadata": {},
          "output_type": "execute_result"
        }
      ],
      "source": [
        "## Wrangle the data\n",
        "df = pd.DataFrame.from_dict(data)\n",
        "df['price'] = df['price'].str.replace('$','')\n",
        "df['price'] = df['price'].str.replace(',','')\n",
        "df['price'] = pd.to_numeric(df['price'],errors='coerce')\n",
        "df['year'] = pd.to_numeric(df['year'],errors='coerce')\n",
        "df['age'] = 2025-df['year']\n",
        "print(df.shape)\n",
        "df.to_csv('craigslist_cville_motorcycles.csv') # Save data in case of a disaster\n",
        "df.head()"
      ]
    },
    {
      "cell_type": "markdown",
      "metadata": {
        "id": "YBcg4XUoy3XZ"
      },
      "source": [
        "With the data in and wrangled, we can now do EDA:"
      ]
    },
    {
      "cell_type": "code",
      "execution_count": 58,
      "metadata": {
        "id": "qBMwX_rFy3XZ",
        "outputId": "9abfa7a7-f4fb-4563-c0f6-531f74310c3e"
      },
      "outputs": [
        {
          "name": "stdout",
          "output_type": "stream",
          "text": [
            "count       17.000000\n",
            "mean      6661.411765\n",
            "std       7040.356934\n",
            "min          0.000000\n",
            "25%       2750.000000\n",
            "50%       4750.000000\n",
            "75%       6500.000000\n",
            "max      24250.000000\n",
            "Name: price, dtype: float64\n"
          ]
        },
        {
          "data": {
            "image/png": "[encoded data removed]",
            "text/plain": [
              "<Figure size 640x480 with 1 Axes>"
            ]
          },
          "metadata": {},
          "output_type": "display_data"
        },
        {
          "name": "stdout",
          "output_type": "stream",
          "text": [
            "count    13.000000\n",
            "mean     14.230769\n",
            "std       6.508377\n",
            "min       4.000000\n",
            "25%       8.000000\n",
            "50%      14.000000\n",
            "75%      20.000000\n",
            "max      22.000000\n",
            "Name: age, dtype: float64\n"
          ]
        },
        {
          "data": {
            "image/png": "[encoded data removed]",
            "text/plain": [
              "<Figure size 640x480 with 1 Axes>"
            ]
          },
          "metadata": {},
          "output_type": "display_data"
        }
      ],
      "source": [
        "# EDA for price and age:\n",
        "print(df['price'].describe())\n",
        "df['price'].hist(grid=False)\n",
        "plt.title('Distribution of Prices')\n",
        "plt.xlabel('Price')\n",
        "plt.ylabel('Frequency')\n",
        "plt.show()\n",
        "\n",
        "print(df['age'].describe())\n",
        "df['age'].hist(grid=False)\n",
        "plt.title('Distribution of Ages')\n",
        "plt.xlabel('Age')\n",
        "plt.ylabel('Frequency')\n",
        "plt.show()\n"
      ]
    },
    {
      "cell_type": "code",
      "execution_count": 59,
      "metadata": {
        "id": "xsJPUF2wy3XZ",
        "outputId": "9a613e49-3b2b-4214-9ae3-9a5f0986ff6e"
      },
      "outputs": [
        {
          "data": {
            "text/html": [
              "<div>\n",
              "<style scoped>\n",
              "    .dataframe tbody tr th:only-of-type {\n",
              "        vertical-align: middle;\n",
              "    }\n",
              "\n",
              "    .dataframe tbody tr th {\n",
              "        vertical-align: top;\n",
              "    }\n",
              "\n",
              "    .dataframe thead tr th {\n",
              "        text-align: left;\n",
              "    }\n",
              "\n",
              "    .dataframe thead tr:last-of-type th {\n",
              "        text-align: right;\n",
              "    }\n",
              "</style>\n",
              "<table border=\"1\" class=\"dataframe\">\n",
              "  <thead>\n",
              "    <tr>\n",
              "      <th></th>\n",
              "      <th colspan=\"8\" halign=\"left\">price</th>\n",
              "    </tr>\n",
              "    <tr>\n",
              "      <th></th>\n",
              "      <th>count</th>\n",
              "      <th>mean</th>\n",
              "      <th>std</th>\n",
              "      <th>min</th>\n",
              "      <th>25%</th>\n",
              "      <th>50%</th>\n",
              "      <th>75%</th>\n",
              "      <th>max</th>\n",
              "    </tr>\n",
              "    <tr>\n",
              "      <th>brand</th>\n",
              "      <th></th>\n",
              "      <th></th>\n",
              "      <th></th>\n",
              "      <th></th>\n",
              "      <th></th>\n",
              "      <th></th>\n",
              "      <th></th>\n",
              "      <th></th>\n",
              "    </tr>\n",
              "  </thead>\n",
              "  <tbody>\n",
              "    <tr>\n",
              "      <th>bmw</th>\n",
              "      <td>3.0</td>\n",
              "      <td>4916.666667</td>\n",
              "      <td>1664.582030</td>\n",
              "      <td>3000.0</td>\n",
              "      <td>4375.00</td>\n",
              "      <td>5750.0</td>\n",
              "      <td>5875.00</td>\n",
              "      <td>6000.0</td>\n",
              "    </tr>\n",
              "    <tr>\n",
              "      <th>ducati</th>\n",
              "      <td>1.0</td>\n",
              "      <td>6500.000000</td>\n",
              "      <td>NaN</td>\n",
              "      <td>6500.0</td>\n",
              "      <td>6500.00</td>\n",
              "      <td>6500.0</td>\n",
              "      <td>6500.00</td>\n",
              "      <td>6500.0</td>\n",
              "    </tr>\n",
              "    <tr>\n",
              "      <th>harley</th>\n",
              "      <td>1.0</td>\n",
              "      <td>6500.000000</td>\n",
              "      <td>NaN</td>\n",
              "      <td>6500.0</td>\n",
              "      <td>6500.00</td>\n",
              "      <td>6500.0</td>\n",
              "      <td>6500.00</td>\n",
              "      <td>6500.0</td>\n",
              "    </tr>\n",
              "    <tr>\n",
              "      <th>honda</th>\n",
              "      <td>2.0</td>\n",
              "      <td>1375.000000</td>\n",
              "      <td>1944.543648</td>\n",
              "      <td>0.0</td>\n",
              "      <td>687.50</td>\n",
              "      <td>1375.0</td>\n",
              "      <td>2062.50</td>\n",
              "      <td>2750.0</td>\n",
              "    </tr>\n",
              "    <tr>\n",
              "      <th>missing</th>\n",
              "      <td>7.0</td>\n",
              "      <td>10135.000000</td>\n",
              "      <td>10089.350409</td>\n",
              "      <td>0.0</td>\n",
              "      <td>2100.00</td>\n",
              "      <td>5500.0</td>\n",
              "      <td>18497.50</td>\n",
              "      <td>24250.0</td>\n",
              "    </tr>\n",
              "    <tr>\n",
              "      <th>vespa</th>\n",
              "      <td>2.0</td>\n",
              "      <td>4024.500000</td>\n",
              "      <td>1026.011940</td>\n",
              "      <td>3299.0</td>\n",
              "      <td>3661.75</td>\n",
              "      <td>4024.5</td>\n",
              "      <td>4387.25</td>\n",
              "      <td>4750.0</td>\n",
              "    </tr>\n",
              "    <tr>\n",
              "      <th>yamaha</th>\n",
              "      <td>1.0</td>\n",
              "      <td>3750.000000</td>\n",
              "      <td>NaN</td>\n",
              "      <td>3750.0</td>\n",
              "      <td>3750.00</td>\n",
              "      <td>3750.0</td>\n",
              "      <td>3750.00</td>\n",
              "      <td>3750.0</td>\n",
              "    </tr>\n",
              "  </tbody>\n",
              "</table>\n",
              "</div>"
            ],
            "text/plain": [
              "        price                                                                 \\\n",
              "        count          mean           std     min      25%     50%       75%   \n",
              "brand                                                                          \n",
              "bmw       3.0   4916.666667   1664.582030  3000.0  4375.00  5750.0   5875.00   \n",
              "ducati    1.0   6500.000000           NaN  6500.0  6500.00  6500.0   6500.00   \n",
              "harley    1.0   6500.000000           NaN  6500.0  6500.00  6500.0   6500.00   \n",
              "honda     2.0   1375.000000   1944.543648     0.0   687.50  1375.0   2062.50   \n",
              "missing   7.0  10135.000000  10089.350409     0.0  2100.00  5500.0  18497.50   \n",
              "vespa     2.0   4024.500000   1026.011940  3299.0  3661.75  4024.5   4387.25   \n",
              "yamaha    1.0   3750.000000           NaN  3750.0  3750.00  3750.0   3750.00   \n",
              "\n",
              "                  \n",
              "             max  \n",
              "brand             \n",
              "bmw       6000.0  \n",
              "ducati    6500.0  \n",
              "harley    6500.0  \n",
              "honda     2750.0  \n",
              "missing  24250.0  \n",
              "vespa     4750.0  \n",
              "yamaha    3750.0  "
            ]
          },
          "execution_count": 59,
          "metadata": {},
          "output_type": "execute_result"
        }
      ],
      "source": [
        "# Price by brand:\n",
        "df.loc[:,['price','brand']].groupby('brand').describe()\n"
      ]
    },
    {
      "cell_type": "code",
      "execution_count": 60,
      "metadata": {},
      "outputs": [
        {
          "data": {
            "text/html": [
              "<div>\n",
              "<style scoped>\n",
              "    .dataframe tbody tr th:only-of-type {\n",
              "        vertical-align: middle;\n",
              "    }\n",
              "\n",
              "    .dataframe tbody tr th {\n",
              "        vertical-align: top;\n",
              "    }\n",
              "\n",
              "    .dataframe thead tr th {\n",
              "        text-align: left;\n",
              "    }\n",
              "\n",
              "    .dataframe thead tr:last-of-type th {\n",
              "        text-align: right;\n",
              "    }\n",
              "</style>\n",
              "<table border=\"1\" class=\"dataframe\">\n",
              "  <thead>\n",
              "    <tr>\n",
              "      <th></th>\n",
              "      <th colspan=\"8\" halign=\"left\">age</th>\n",
              "    </tr>\n",
              "    <tr>\n",
              "      <th></th>\n",
              "      <th>count</th>\n",
              "      <th>mean</th>\n",
              "      <th>std</th>\n",
              "      <th>min</th>\n",
              "      <th>25%</th>\n",
              "      <th>50%</th>\n",
              "      <th>75%</th>\n",
              "      <th>max</th>\n",
              "    </tr>\n",
              "    <tr>\n",
              "      <th>brand</th>\n",
              "      <th></th>\n",
              "      <th></th>\n",
              "      <th></th>\n",
              "      <th></th>\n",
              "      <th></th>\n",
              "      <th></th>\n",
              "      <th></th>\n",
              "      <th></th>\n",
              "    </tr>\n",
              "  </thead>\n",
              "  <tbody>\n",
              "    <tr>\n",
              "      <th>bmw</th>\n",
              "      <td>3.0</td>\n",
              "      <td>17.666667</td>\n",
              "      <td>4.041452</td>\n",
              "      <td>14.0</td>\n",
              "      <td>15.5</td>\n",
              "      <td>17.0</td>\n",
              "      <td>19.5</td>\n",
              "      <td>22.0</td>\n",
              "    </tr>\n",
              "    <tr>\n",
              "      <th>ducati</th>\n",
              "      <td>1.0</td>\n",
              "      <td>8.000000</td>\n",
              "      <td>NaN</td>\n",
              "      <td>8.0</td>\n",
              "      <td>8.0</td>\n",
              "      <td>8.0</td>\n",
              "      <td>8.0</td>\n",
              "      <td>8.0</td>\n",
              "    </tr>\n",
              "    <tr>\n",
              "      <th>harley</th>\n",
              "      <td>1.0</td>\n",
              "      <td>22.000000</td>\n",
              "      <td>NaN</td>\n",
              "      <td>22.0</td>\n",
              "      <td>22.0</td>\n",
              "      <td>22.0</td>\n",
              "      <td>22.0</td>\n",
              "      <td>22.0</td>\n",
              "    </tr>\n",
              "    <tr>\n",
              "      <th>honda</th>\n",
              "      <td>1.0</td>\n",
              "      <td>19.000000</td>\n",
              "      <td>NaN</td>\n",
              "      <td>19.0</td>\n",
              "      <td>19.0</td>\n",
              "      <td>19.0</td>\n",
              "      <td>19.0</td>\n",
              "      <td>19.0</td>\n",
              "    </tr>\n",
              "    <tr>\n",
              "      <th>missing</th>\n",
              "      <td>5.0</td>\n",
              "      <td>11.200000</td>\n",
              "      <td>6.833740</td>\n",
              "      <td>4.0</td>\n",
              "      <td>8.0</td>\n",
              "      <td>9.0</td>\n",
              "      <td>13.0</td>\n",
              "      <td>22.0</td>\n",
              "    </tr>\n",
              "    <tr>\n",
              "      <th>vespa</th>\n",
              "      <td>1.0</td>\n",
              "      <td>7.000000</td>\n",
              "      <td>NaN</td>\n",
              "      <td>7.0</td>\n",
              "      <td>7.0</td>\n",
              "      <td>7.0</td>\n",
              "      <td>7.0</td>\n",
              "      <td>7.0</td>\n",
              "    </tr>\n",
              "    <tr>\n",
              "      <th>yamaha</th>\n",
              "      <td>1.0</td>\n",
              "      <td>20.000000</td>\n",
              "      <td>NaN</td>\n",
              "      <td>20.0</td>\n",
              "      <td>20.0</td>\n",
              "      <td>20.0</td>\n",
              "      <td>20.0</td>\n",
              "      <td>20.0</td>\n",
              "    </tr>\n",
              "  </tbody>\n",
              "</table>\n",
              "</div>"
            ],
            "text/plain": [
              "          age                                                   \n",
              "        count       mean       std   min   25%   50%   75%   max\n",
              "brand                                                           \n",
              "bmw       3.0  17.666667  4.041452  14.0  15.5  17.0  19.5  22.0\n",
              "ducati    1.0   8.000000       NaN   8.0   8.0   8.0   8.0   8.0\n",
              "harley    1.0  22.000000       NaN  22.0  22.0  22.0  22.0  22.0\n",
              "honda     1.0  19.000000       NaN  19.0  19.0  19.0  19.0  19.0\n",
              "missing   5.0  11.200000  6.833740   4.0   8.0   9.0  13.0  22.0\n",
              "vespa     1.0   7.000000       NaN   7.0   7.0   7.0   7.0   7.0\n",
              "yamaha    1.0  20.000000       NaN  20.0  20.0  20.0  20.0  20.0"
            ]
          },
          "execution_count": 60,
          "metadata": {},
          "output_type": "execute_result"
        }
      ],
      "source": [
        "# Age by brand:\n",
        "df.loc[:,['age','brand']].groupby('brand').describe()"
      ]
    },
    {
      "cell_type": "code",
      "execution_count": 61,
      "metadata": {
        "id": "lHypfI-py3Xa",
        "outputId": "1f24c08e-e5d6-4f60-a944-e1760c3fd51d"
      },
      "outputs": [
        {
          "data": {
            "image/png": "[encoded data removed]",
            "text/plain": [
              "<Figure size 640x480 with 1 Axes>"
            ]
          },
          "metadata": {},
          "output_type": "display_data"
        }
      ],
      "source": [
        "ax = sns.scatterplot(data=df, x='age', y='price',hue='brand')\n",
        "sns.move_legend(ax, \"upper left\", bbox_to_anchor=(1, 1))"
      ]
    },
    {
      "cell_type": "code",
      "execution_count": 62,
      "metadata": {
        "id": "LzFhDn50y3Xa",
        "outputId": "bd26a020-f944-4b07-f98f-40a64db9d94d"
      },
      "outputs": [
        {
          "name": "stdout",
          "output_type": "stream",
          "text": [
            "           log_price   log_age\n",
            "log_price   0.605387 -0.190151\n",
            "log_age    -0.190151  0.300318\n",
            "           log_price   log_age\n",
            "log_price   1.000000 -0.492891\n",
            "log_age    -0.492891  1.000000\n"
          ]
        },
        {
          "name": "stderr",
          "output_type": "stream",
          "text": [
            "/Library/Frameworks/Python.framework/Versions/3.10/lib/python3.10/site-packages/pandas/core/arraylike.py:399: RuntimeWarning: divide by zero encountered in log\n",
            "  result = getattr(ufunc, method)(*inputs, **kwargs)\n"
          ]
        },
        {
          "data": {
            "image/png": "[encoded data removed]",
            "text/plain": [
              "<Figure size 640x480 with 1 Axes>"
            ]
          },
          "metadata": {},
          "output_type": "display_data"
        }
      ],
      "source": [
        "df['log_price'] = np.log(df['price'])\n",
        "df['log_age'] = np.log(df['age'])\n",
        "\n",
        "ax = sns.scatterplot(data=df, x='log_age', y='log_price',hue='brand')\n",
        "sns.move_legend(ax, \"upper left\", bbox_to_anchor=(1, 1))\n",
        "\n",
        "print(df.loc[:,['log_price','log_age']].cov())\n",
        "print(df.loc[:,['log_price','log_age']].corr())"
      ]
    },
    {
      "cell_type": "code",
      "execution_count": 63,
      "metadata": {
        "id": "9yERjzXQy3Xa",
        "outputId": "014888b7-7043-4e62-fee4-25ef1dc3f55d"
      },
      "outputs": [
        {
          "data": {
            "text/plain": [
              "<seaborn.axisgrid.JointGrid at 0x17778ec20>"
            ]
          },
          "execution_count": 63,
          "metadata": {},
          "output_type": "execute_result"
        },
        {
          "data": {
            "image/png": "[encoded data removed]",
            "text/plain": [
              "<Figure size 600x600 with 3 Axes>"
            ]
          },
          "metadata": {},
          "output_type": "display_data"
        }
      ],
      "source": [
        "sns.jointplot(data=df, x='log_age', y='log_price',kind='hex')"
      ]
    },
    {
      "cell_type": "markdown",
      "metadata": {
        "id": "bvLzSN6Gy3Xb"
      },
      "source": [
        "## 4. (Optional) From your search results, crawl to the links and extract more information about every listing in your original dataframe. Wrangle and do some EDA."
      ]
    },
    {
      "cell_type": "markdown",
      "metadata": {
        "id": "dd00T888y3Xa"
      },
      "source": [
        "The final thing we want to do is go from scraping a single page to crawling around.\n",
        "\n",
        "The idea here is that every web page is connected to some other page. By extracting links as we move from page to page, we can create a web crawler that wanders around for us, gathering information of interest.\n",
        "\n",
        "In this case, we want to use the search results to then visit each individual page for each listing. Since we saved the links to the web pages in the previous scrape, we can now simply for-loop over that column in the dataframe, visiting the page listing for each of the cars in the search results:"
      ]
    },
    {
      "cell_type": "code",
      "execution_count": 64,
      "metadata": {
        "id": "gah68Z75y3Xa"
      },
      "outputs": [],
      "source": [
        "import time # Time delays\n",
        "import random # Random numbers\n",
        "\n",
        "links = df['link']\n",
        "data = []\n",
        "for link in links: # about 3 minutes\n",
        "    time.sleep(random.randint(1, 3)) # Random delays\n",
        "    raw = requests.get(link,headers=header) # Get page\n",
        "    bsObj = soup(raw.content,'html.parser') # Parse the html\n",
        "    #\n",
        "    try:\n",
        "        year_post = bsObj.find(class_='attr important').find(class_ = 'valu year').get_text()\n",
        "    except:\n",
        "        year_post = np.nan\n",
        "    #\n",
        "    try:\n",
        "        condition = bsObj.find(class_='attr condition').find(href=True).get_text()\n",
        "    except:\n",
        "        condition = 'missing'\n",
        "    #\n",
        "    try:\n",
        "        cylinders = bsObj.find(class_='attr auto_cylinders').find(class_ = 'valu').get_text()\n",
        "        cylinders = cylinders.replace('\\n','')\n",
        "    except:\n",
        "        cylinders = 'missing'\n",
        "    #\n",
        "    try:\n",
        "        drivetrain = bsObj.find(class_='attr auto_drivetrain').find(href=True).get_text()\n",
        "    except:\n",
        "        drivetrain = 'missing'\n",
        "    #\n",
        "    try:\n",
        "        fuel = bsObj.find(class_='attr auto_fuel_type').find(href = True).get_text()\n",
        "    except:\n",
        "        fuel = 'missing'\n",
        "    #\n",
        "    try:\n",
        "        miles = bsObj.find(class_='attr auto_miles').find(class_ = 'valu').get_text()\n",
        "    except:\n",
        "        miles = np.nan\n",
        "    #\n",
        "    try:\n",
        "        color = bsObj.find(class_='attr auto_paint').find(href=True).get_text()\n",
        "    except:\n",
        "        color='missing'\n",
        "    #\n",
        "    try:\n",
        "        title = bsObj.find(class_='attr auto_title_status').find(href=True).get_text()\n",
        "    except:\n",
        "        title='missing'\n",
        "    #\n",
        "    try:\n",
        "        transmission = bsObj.find(class_='attr auto_transmission').find(href=True).get_text()\n",
        "    except:\n",
        "        transmission = 'missing'\n",
        "    #\n",
        "    try:\n",
        "        bodytype = bsObj.find(class_='attr auto_bodytype').find(href=True).get_text()\n",
        "    except:\n",
        "        bodytype = 'missing'\n",
        "    #\n",
        "    text = bsObj.find(id='postingbody').get_text()\n",
        "    text = text.replace('\\n','')\n",
        "    text = text.replace('QR Code Link to This Post','')\n",
        "    record = {'title':title,\n",
        "              'year_post':year_post,\n",
        "              'condition':condition,\n",
        "              'cylinders':cylinders,\n",
        "              'drivetrain':drivetrain,\n",
        "              'fuel':fuel,\n",
        "              'miles':miles,\n",
        "              'color':color,\n",
        "              'title':'title',\n",
        "              'transmission':transmission,\n",
        "              'bodytype':bodytype,\n",
        "              'text':text,}\n",
        "    data.append(record)"
      ]
    },
    {
      "cell_type": "markdown",
      "metadata": {
        "id": "ro7H8V54y3Xb"
      },
      "source": [
        "What are the new features here?\n",
        "\n",
        "First, we don't want to overwhelm the servers, so we put a small delay between each request of a listing, `time.sleep(random.randint(1, 3))`. This waits a random amount of time between 1 and 3 seconds to avoid overwhelming their server.\n",
        "\n",
        "Second, we use the try/except block. This is a useful control structure in general, but especially for web scraping. Python tries the statements under `try:`, and if it fails, executes the steps under `except:`. This can happen, in this case, with missing data, which crashes the crawler. Instead, we put our missing codes into our dataframe right away.\n",
        "\n",
        "Third, we used `.find().find().get_text()` to find the data we're looking for. In general, the structure of mark-up langauges like HTML and XML makes it possible to \"drill down\" into their entries and extract the information of interest. This exploitation of mark-up languages could be the subject of a whole course on procuring data from the web."
      ]
    },
    {
      "cell_type": "markdown",
      "metadata": {
        "id": "UrI6hrL6y3Xb"
      },
      "source": [
        "With the data scraped, we can make a new dataframe, combine it with the old one using `pd.concat`, and do some wrangling to clean the data up:"
      ]
    },
    {
      "cell_type": "code",
      "execution_count": null,
      "metadata": {
        "id": "SDM-sfRay3Xb"
      },
      "outputs": [],
      "source": [
        "new_df = pd.DataFrame.from_dict(data)\n",
        "new_df.head()\n",
        "\n",
        "df = pd.concat([df,new_df],axis=1) # combine data frames\n",
        "df.head()\n",
        "\n",
        "df['miles'] = df['miles'].str.replace(',','')\n",
        "df['miles'] = pd.to_numeric(df['miles'],errors='coerce')\n",
        "\n",
        "df['year_post'] = df['year_post'].str.replace(',','')\n",
        "df['year_post'] = pd.to_numeric(df['year_post'],errors='coerce')\n",
        "df.to_csv('craiglist_cville_cars_long.csv')"
      ]
    }
  ],
  "metadata": {
    "colab": {
      "provenance": []
    },
    "kernelspec": {
      "display_name": "Python 3",
      "language": "python",
      "name": "python3"
    },
    "language_info": {
      "codemirror_mode": {
        "name": "ipython",
        "version": 3
      },
      "file_extension": ".py",
      "mimetype": "text/x-python",
      "name": "python",
      "nbconvert_exporter": "python",
      "pygments_lexer": "ipython3",
      "version": "3.10.12"
    }
  },
  "nbformat": 4,
  "nbformat_minor": 0
}
